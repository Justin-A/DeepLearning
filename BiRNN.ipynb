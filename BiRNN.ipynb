{
 "cells": [
  {
   "cell_type": "code",
   "execution_count": 1,
   "metadata": {},
   "outputs": [],
   "source": [
    "from __future__ import absolute_import, division, print_function\n",
    "\n",
    "import tensorflow as tf\n",
    "from tensorflow.keras import Model, layers\n",
    "import numpy as np"
   ]
  },
  {
   "cell_type": "code",
   "execution_count": 2,
   "metadata": {},
   "outputs": [],
   "source": [
    "# MNIST Dataset\n",
    "num_classes = 10\n",
    "num_features = 784\n",
    "\n",
    "learning_rate = 0.001\n",
    "training_steps = 2000\n",
    "batch_size = 64\n",
    "display_step = 100\n",
    "\n",
    "num_input = 28\n",
    "timesteps = 28\n",
    "num_units = 32"
   ]
  },
  {
   "cell_type": "code",
   "execution_count": 3,
   "metadata": {},
   "outputs": [],
   "source": [
    "from tensorflow.keras.datasets import mnist\n",
    "(x_train, y_train), (x_test, y_test) = mnist.load_data()\n",
    "x_train, x_test = np.array(x_train, np.float32), np.array(x_test, np.float32)\n",
    "x_train, x_test = x_train.reshape([-1, 28, 28]), x_test.reshape([-1, num_features])\n",
    "x_train, x_test = x_train / 255., x_test / 255."
   ]
  },
  {
   "cell_type": "code",
   "execution_count": 4,
   "metadata": {},
   "outputs": [],
   "source": [
    "train_data = tf.data.Dataset.from_tensor_slices((x_train, y_train))\n",
    "train_data = train_data.repeat().shuffle(5000).batch(batch_size).prefetch(1)"
   ]
  },
  {
   "cell_type": "code",
   "execution_count": 5,
   "metadata": {},
   "outputs": [],
   "source": [
    "class BiRNN(Model):\n",
    "    def __init__(self):\n",
    "        super(BiRNN, self).__init__()\n",
    "        lstm_fw = layers.LSTM(units = num_units)\n",
    "        lstm_bw = layers.LSTM(units = num_units, go_backwards = True)\n",
    "        \n",
    "        self.bi_lstm = layers.Bidirectional(lstm_fw, backward_layer = lstm_bw)\n",
    "        self.out = layers.Dense(num_classes)\n",
    "    \n",
    "    def call(self, x, is_training = False):\n",
    "        x = self.bi_lstm(x)\n",
    "        x = self.out(x)\n",
    "        if not is_training:\n",
    "            x = tf.nn.softmax(x)\n",
    "        return x"
   ]
  },
  {
   "cell_type": "code",
   "execution_count": 6,
   "metadata": {},
   "outputs": [],
   "source": [
    "birnn_net = BiRNN()"
   ]
  },
  {
   "cell_type": "code",
   "execution_count": 7,
   "metadata": {},
   "outputs": [],
   "source": [
    "def cross_entropy_loss(x, y):\n",
    "    y = tf.cast(y, tf.int64)\n",
    "    loss = tf.nn.sparse_softmax_cross_entropy_with_logits(labels = y, logits = x)\n",
    "    return tf.reduce_mean(loss)\n",
    "\n",
    "def accuracy(y_pred, y_true):\n",
    "    correct_prediction = tf.equal(tf.argmax(y_pred, 1), tf.cast(y_true, tf.int64))\n",
    "    return tf.reduce_mean(tf.cast(correct_prediction, tf.float32), axis = -1)"
   ]
  },
  {
   "cell_type": "code",
   "execution_count": 8,
   "metadata": {},
   "outputs": [],
   "source": [
    "optimizer = tf.optimizers.Adam(learning_rate)"
   ]
  },
  {
   "cell_type": "code",
   "execution_count": 9,
   "metadata": {},
   "outputs": [],
   "source": [
    "def run_optimization(x, y):\n",
    "    with tf.GradientTape() as g:\n",
    "        pred = birnn_net(x, is_training = True)\n",
    "        loss = cross_entropy_loss(pred, y)\n",
    "        \n",
    "    trainable_variables = birnn_net.trainable_variables\n",
    "    gradients = g.gradient(loss, trainable_variables)\n",
    "    optimizer.apply_gradients(zip(gradients, trainable_variables))"
   ]
  },
  {
   "cell_type": "code",
   "execution_count": 10,
   "metadata": {},
   "outputs": [
    {
     "name": "stdout",
     "output_type": "stream",
     "text": [
      "Step: 100, Loss: 1.165864, accuracy: 0.718750\n",
      "Step: 200, Loss: 0.660612, accuracy: 0.843750\n",
      "Step: 300, Loss: 0.387928, accuracy: 0.921875\n",
      "Step: 400, Loss: 0.372979, accuracy: 0.921875\n",
      "Step: 500, Loss: 0.250394, accuracy: 0.937500\n",
      "Step: 600, Loss: 0.347446, accuracy: 0.890625\n",
      "Step: 700, Loss: 0.437862, accuracy: 0.875000\n",
      "Step: 800, Loss: 0.112292, accuracy: 0.968750\n",
      "Step: 900, Loss: 0.352415, accuracy: 0.890625\n",
      "Step: 1000, Loss: 0.193233, accuracy: 0.921875\n",
      "Step: 1100, Loss: 0.143921, accuracy: 0.968750\n",
      "Step: 1200, Loss: 0.161363, accuracy: 0.953125\n",
      "Step: 1300, Loss: 0.068597, accuracy: 0.984375\n",
      "Step: 1400, Loss: 0.194060, accuracy: 0.921875\n",
      "Step: 1500, Loss: 0.171698, accuracy: 0.984375\n",
      "Step: 1600, Loss: 0.129564, accuracy: 0.953125\n",
      "Step: 1700, Loss: 0.218813, accuracy: 0.921875\n",
      "Step: 1800, Loss: 0.164069, accuracy: 0.953125\n",
      "Step: 1900, Loss: 0.205504, accuracy: 0.937500\n",
      "Step: 2000, Loss: 0.109986, accuracy: 0.984375\n"
     ]
    }
   ],
   "source": [
    "for step, (batch_x, batch_y) in enumerate(train_data.take(training_steps), 1):\n",
    "    run_optimization(batch_x, batch_y)\n",
    "    if step % display_step == 0:\n",
    "        pred = birnn_net(batch_x, is_training = True)\n",
    "        loss = cross_entropy_loss(pred, batch_y)\n",
    "        acc = accuracy(pred, batch_y)\n",
    "        print(\"Step: %i, Loss: %f, accuracy: %f\" % (step, loss, acc))"
   ]
  }
 ],
 "metadata": {
  "kernelspec": {
   "display_name": "Python 3",
   "language": "python",
   "name": "python3"
  },
  "language_info": {
   "codemirror_mode": {
    "name": "ipython",
    "version": 3
   },
   "file_extension": ".py",
   "mimetype": "text/x-python",
   "name": "python",
   "nbconvert_exporter": "python",
   "pygments_lexer": "ipython3",
   "version": "3.6.8"
  }
 },
 "nbformat": 4,
 "nbformat_minor": 4
}
