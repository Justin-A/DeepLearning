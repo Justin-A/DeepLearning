{
 "cells": [
  {
   "cell_type": "code",
   "execution_count": 1,
   "metadata": {},
   "outputs": [],
   "source": [
    "import torch\n",
    "import torch.nn as nn\n",
    "import torch.optim as optim\n",
    "import torch.nn.functional as F\n",
    "from torchvision import transforms, datasets"
   ]
  },
  {
   "cell_type": "code",
   "execution_count": 2,
   "metadata": {},
   "outputs": [],
   "source": [
    "USE_CUDA = torch.cuda.is_available()\n",
    "DEVICE = torch.device(\"cuda\" if USE_CUDA else \"cpu\")\n",
    "EPOCHS = 30\n",
    "BATCH_SIZE = 64"
   ]
  },
  {
   "cell_type": "code",
   "execution_count": 3,
   "metadata": {},
   "outputs": [],
   "source": [
    "transform = transforms.Compose([transforms.ToTensor()])\n",
    "trainset = datasets.FashionMNIST(root = './.data/', train = True, download = True, transform = transform)\n",
    "testset = datasets.FashionMNIST(root = './.data/', train = False, download = True, transform = transform)\n",
    "train_loader = torch.utils.data.DataLoader(dataset = trainset, batch_size = BATCH_SIZE, shuffle = True,)\n",
    "test_loader = torch.utils.data.DataLoader(dataset = testset, batch_size = BATCH_SIZE, shuffle = True,)"
   ]
  },
  {
   "cell_type": "code",
   "execution_count": 4,
   "metadata": {},
   "outputs": [],
   "source": [
    "class Net(nn.Module):\n",
    "    def __init__(self):\n",
    "        super(Net, self).__init__()\n",
    "        self.fc1 = nn.Linear(784, 256)\n",
    "        self.fc2 = nn.Linear(256, 128)\n",
    "        self.fc3 = nn.Linear(128, 10)\n",
    "    def forward(self, x):\n",
    "        x = x.view(-1, 784)\n",
    "        x = F.relu(self.fc1(x))\n",
    "        x = F.relu(self.fc2(x))\n",
    "        x = self.fc3(x)\n",
    "        return x"
   ]
  },
  {
   "cell_type": "code",
   "execution_count": 5,
   "metadata": {},
   "outputs": [],
   "source": [
    "model = Net().to(DEVICE)\n",
    "optimizer = optim.SGD(model.parameters(), lr = 0.01)"
   ]
  },
  {
   "cell_type": "code",
   "execution_count": 6,
   "metadata": {},
   "outputs": [],
   "source": [
    "def train(model, train_loader, optimizer):\n",
    "    model.train()\n",
    "    for batch_idx, (data, target) in enumerate(train_loader):\n",
    "        data, target = data.to(DEVICE), target.to(DEVICE)\n",
    "        optimizer.zero_grad()\n",
    "        output = model(data)\n",
    "        loss = F.cross_entropy(output, target)\n",
    "        loss.backward()\n",
    "        optimizer.step()"
   ]
  },
  {
   "cell_type": "code",
   "execution_count": 7,
   "metadata": {},
   "outputs": [],
   "source": [
    "def evaluate(model, test_loader):\n",
    "    model.eval()\n",
    "    test_loss = 0\n",
    "    correct = 0\n",
    "    with torch.no_grad():\n",
    "        for data, target in test_loader:\n",
    "            data, target = data.to(DEVICE), target.to(DEVICE)\n",
    "            output = model(data)\n",
    "            test_loss += F.cross_entropy(output, target, reduction = 'sum').item()\n",
    "            pred = output.max(1, keepdim = True)[1]\n",
    "            correct += pred.eq(target.view_as(pred)).sum().item()\n",
    "    test_loss /= len(test_loader.dataset)\n",
    "    test_accuracy = 100. * correct / len(test_loader.dataset)\n",
    "    return test_loss, test_accuracy"
   ]
  },
  {
   "cell_type": "code",
   "execution_count": 9,
   "metadata": {},
   "outputs": [
    {
     "name": "stdout",
     "output_type": "stream",
     "text": [
      "[1] Test Loss: 0.6921, accuracy: 74.78%\n",
      "[2] Test Loss: 0.6083, accuracy: 78.06%\n",
      "[3] Test Loss: 0.5565, accuracy: 80.27%\n",
      "[4] Test Loss: 0.5324, accuracy: 81.31%\n",
      "[5] Test Loss: 0.5163, accuracy: 81.97%\n",
      "[6] Test Loss: 0.4996, accuracy: 81.76%\n",
      "[7] Test Loss: 0.4747, accuracy: 82.97%\n",
      "[8] Test Loss: 0.4917, accuracy: 82.80%\n",
      "[9] Test Loss: 0.4562, accuracy: 83.83%\n",
      "[10] Test Loss: 0.4625, accuracy: 83.56%\n",
      "[11] Test Loss: 0.4337, accuracy: 84.90%\n",
      "[12] Test Loss: 0.4480, accuracy: 84.29%\n",
      "[13] Test Loss: 0.4300, accuracy: 85.02%\n",
      "[14] Test Loss: 0.4244, accuracy: 85.16%\n",
      "[15] Test Loss: 0.4211, accuracy: 85.02%\n",
      "[16] Test Loss: 0.4557, accuracy: 83.16%\n",
      "[17] Test Loss: 0.4129, accuracy: 85.48%\n",
      "[18] Test Loss: 0.4002, accuracy: 85.91%\n",
      "[19] Test Loss: 0.4352, accuracy: 84.68%\n",
      "[20] Test Loss: 0.4106, accuracy: 85.49%\n",
      "[21] Test Loss: 0.3856, accuracy: 86.37%\n",
      "[22] Test Loss: 0.4282, accuracy: 84.64%\n",
      "[23] Test Loss: 0.3839, accuracy: 86.56%\n",
      "[24] Test Loss: 0.3986, accuracy: 85.84%\n",
      "[25] Test Loss: 0.3812, accuracy: 86.58%\n",
      "[26] Test Loss: 0.3870, accuracy: 86.28%\n",
      "[27] Test Loss: 0.4047, accuracy: 85.81%\n",
      "[28] Test Loss: 0.3754, accuracy: 86.76%\n",
      "[29] Test Loss: 0.3697, accuracy: 86.82%\n",
      "[30] Test Loss: 0.3845, accuracy: 86.12%\n"
     ]
    }
   ],
   "source": [
    "for epoch in range(1, EPOCHS + 1):\n",
    "    train(model, train_loader, optimizer)\n",
    "    test_loss, test_accuracy = evaluate(model, test_loader)\n",
    "    print('[{}] Test Loss: {:.4f}, accuracy: {:.2f}%'.format(epoch, test_loss, test_accuracy))"
   ]
  },
  {
   "cell_type": "code",
   "execution_count": null,
   "metadata": {},
   "outputs": [],
   "source": []
  }
 ],
 "metadata": {
  "kernelspec": {
   "display_name": "Python 3",
   "language": "python",
   "name": "python3"
  },
  "language_info": {
   "codemirror_mode": {
    "name": "ipython",
    "version": 3
   },
   "file_extension": ".py",
   "mimetype": "text/x-python",
   "name": "python",
   "nbconvert_exporter": "python",
   "pygments_lexer": "ipython3",
   "version": "3.6.8"
  }
 },
 "nbformat": 4,
 "nbformat_minor": 4
}
