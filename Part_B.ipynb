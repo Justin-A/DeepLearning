{
 "cells": [
  {
   "cell_type": "code",
   "execution_count": 1,
   "metadata": {},
   "outputs": [
    {
     "name": "stderr",
     "output_type": "stream",
     "text": [
      "C:\\Users\\Justin\\AppData\\Local\\Continuum\\anaconda3\\lib\\site-packages\\h5py\\__init__.py:36: FutureWarning: Conversion of the second argument of issubdtype from `float` to `np.floating` is deprecated. In future, it will be treated as `np.float64 == np.dtype(float).type`.\n",
      "  from ._conv import register_converters as _register_converters\n",
      "Using TensorFlow backend.\n",
      "C:\\Users\\Justin\\AppData\\Local\\Continuum\\anaconda3\\lib\\site-packages\\tensorflow\\python\\framework\\dtypes.py:526: FutureWarning: Passing (type, 1) or '1type' as a synonym of type is deprecated; in a future version of numpy, it will be understood as (type, (1,)) / '(1,)type'.\n",
      "  _np_qint8 = np.dtype([(\"qint8\", np.int8, 1)])\n",
      "C:\\Users\\Justin\\AppData\\Local\\Continuum\\anaconda3\\lib\\site-packages\\tensorflow\\python\\framework\\dtypes.py:527: FutureWarning: Passing (type, 1) or '1type' as a synonym of type is deprecated; in a future version of numpy, it will be understood as (type, (1,)) / '(1,)type'.\n",
      "  _np_quint8 = np.dtype([(\"quint8\", np.uint8, 1)])\n",
      "C:\\Users\\Justin\\AppData\\Local\\Continuum\\anaconda3\\lib\\site-packages\\tensorflow\\python\\framework\\dtypes.py:528: FutureWarning: Passing (type, 1) or '1type' as a synonym of type is deprecated; in a future version of numpy, it will be understood as (type, (1,)) / '(1,)type'.\n",
      "  _np_qint16 = np.dtype([(\"qint16\", np.int16, 1)])\n",
      "C:\\Users\\Justin\\AppData\\Local\\Continuum\\anaconda3\\lib\\site-packages\\tensorflow\\python\\framework\\dtypes.py:529: FutureWarning: Passing (type, 1) or '1type' as a synonym of type is deprecated; in a future version of numpy, it will be understood as (type, (1,)) / '(1,)type'.\n",
      "  _np_quint16 = np.dtype([(\"quint16\", np.uint16, 1)])\n",
      "C:\\Users\\Justin\\AppData\\Local\\Continuum\\anaconda3\\lib\\site-packages\\tensorflow\\python\\framework\\dtypes.py:530: FutureWarning: Passing (type, 1) or '1type' as a synonym of type is deprecated; in a future version of numpy, it will be understood as (type, (1,)) / '(1,)type'.\n",
      "  _np_qint32 = np.dtype([(\"qint32\", np.int32, 1)])\n",
      "C:\\Users\\Justin\\AppData\\Local\\Continuum\\anaconda3\\lib\\site-packages\\tensorflow\\python\\framework\\dtypes.py:535: FutureWarning: Passing (type, 1) or '1type' as a synonym of type is deprecated; in a future version of numpy, it will be understood as (type, (1,)) / '(1,)type'.\n",
      "  np_resource = np.dtype([(\"resource\", np.ubyte, 1)])\n"
     ]
    }
   ],
   "source": [
    "import os\n",
    "import numpy as np\n",
    "\n",
    "import keras\n",
    "import tensorflow as tf\n",
    "from tensorflow.keras.datasets import cifar10\n",
    "from tensorflow.keras.preprocessing.image import ImageDataGenerator\n",
    "from tensorflow.keras.models import Sequential\n",
    "from tensorflow.keras.layers import Dense, Dropout, Activation, Flatten, Conv2D, MaxPooling2D\n"
   ]
  },
  {
   "cell_type": "code",
   "execution_count": 2,
   "metadata": {},
   "outputs": [],
   "source": [
    "save_dir = os.path.join(os.getcwd(), 'saved_models')\n",
    "batch_size = 256\n",
    "num_classes = 10\n",
    "epochs = 200\n",
    "data_augmentation = True"
   ]
  },
  {
   "cell_type": "code",
   "execution_count": 3,
   "metadata": {},
   "outputs": [
    {
     "name": "stdout",
     "output_type": "stream",
     "text": [
      "x_train shape: (50000, 32, 32, 3)\n",
      "x_test shape: (10000, 32, 32, 3)\n",
      "y_train shape: (50000, 10)\n",
      "y_test shape: (10000, 10)\n",
      "50000 train samples\n",
      "10000 test samples\n"
     ]
    }
   ],
   "source": [
    "# The data, split between train and test sets:\n",
    "(x_train, y_train), (x_test, y_test) = cifar10.load_data()\n",
    "x_train = x_train.astype('float32')\n",
    "x_test = x_test.astype('float32')\n",
    "x_train /= 255\n",
    "x_test /= 255\n",
    "\n",
    "# Convert class vectors to binary class matrices.\n",
    "y_train = keras.utils.to_categorical(y_train, num_classes)\n",
    "y_test = keras.utils.to_categorical(y_test, num_classes)\n",
    "\n",
    "print('x_train shape:', x_train.shape)\n",
    "print('x_test shape:', x_test.shape)\n",
    "print('y_train shape:', y_train.shape)\n",
    "print('y_test shape:', y_test.shape)\n",
    "\n",
    "print(x_train.shape[0], 'train samples')\n",
    "print(x_test.shape[0], 'test samples')"
   ]
  },
  {
   "cell_type": "code",
   "execution_count": 4,
   "metadata": {},
   "outputs": [
    {
     "name": "stdout",
     "output_type": "stream",
     "text": [
      "WARNING:tensorflow:From C:\\Users\\Justin\\AppData\\Local\\Continuum\\anaconda3\\lib\\site-packages\\tensorflow\\python\\ops\\resource_variable_ops.py:435: colocate_with (from tensorflow.python.framework.ops) is deprecated and will be removed in a future version.\n",
      "Instructions for updating:\n",
      "Colocations handled automatically by placer.\n",
      "_________________________________________________________________\n",
      "Layer (type)                 Output Shape              Param #   \n",
      "=================================================================\n",
      "conv2d (Conv2D)              (None, 6, 6, 96)          34944     \n",
      "_________________________________________________________________\n",
      "activation (Activation)      (None, 6, 6, 96)          0         \n",
      "_________________________________________________________________\n",
      "max_pooling2d (MaxPooling2D) (None, 6, 6, 96)          0         \n",
      "_________________________________________________________________\n",
      "conv2d_1 (Conv2D)            (None, 6, 6, 256)         614656    \n",
      "_________________________________________________________________\n",
      "activation_1 (Activation)    (None, 6, 6, 256)         0         \n",
      "_________________________________________________________________\n",
      "max_pooling2d_1 (MaxPooling2 (None, 6, 6, 256)         0         \n",
      "_________________________________________________________________\n",
      "conv2d_2 (Conv2D)            (None, 6, 6, 384)         885120    \n",
      "_________________________________________________________________\n",
      "activation_2 (Activation)    (None, 6, 6, 384)         0         \n",
      "_________________________________________________________________\n",
      "conv2d_3 (Conv2D)            (None, 6, 6, 384)         1327488   \n",
      "_________________________________________________________________\n",
      "activation_3 (Activation)    (None, 6, 6, 384)         0         \n",
      "_________________________________________________________________\n",
      "conv2d_4 (Conv2D)            (None, 6, 6, 256)         884992    \n",
      "_________________________________________________________________\n",
      "activation_4 (Activation)    (None, 6, 6, 256)         0         \n",
      "_________________________________________________________________\n",
      "max_pooling2d_2 (MaxPooling2 (None, 6, 6, 256)         0         \n",
      "_________________________________________________________________\n",
      "flatten (Flatten)            (None, 9216)              0         \n",
      "_________________________________________________________________\n",
      "dense (Dense)                (None, 4096)              37752832  \n",
      "_________________________________________________________________\n",
      "activation_5 (Activation)    (None, 4096)              0         \n",
      "_________________________________________________________________\n",
      "dense_1 (Dense)              (None, 10)                40970     \n",
      "_________________________________________________________________\n",
      "activation_6 (Activation)    (None, 10)                0         \n",
      "=================================================================\n",
      "Total params: 41,541,002\n",
      "Trainable params: 41,541,002\n",
      "Non-trainable params: 0\n",
      "_________________________________________________________________\n"
     ]
    }
   ],
   "source": [
    "model = Sequential()\n",
    "model.add(Conv2D(filters = 96, kernel_size = (11, 11), strides = (4, 4), padding = 'valid', input_shape = x_train.shape[1:]))\n",
    "model.add(Activation('relu'))\n",
    "model.add(MaxPooling2D(pool_size = (3, 3), strides = (1, 1), padding = \"same\")) # stride 2 -> 1\n",
    "\n",
    "model.add(Conv2D(filters = 256, kernel_size = (5, 5), strides = (1, 1), padding = 'same'))\n",
    "model.add(Activation('relu'))\n",
    "model.add(MaxPooling2D(pool_size = (3, 3), strides = (1, 1), padding = \"same\")) # stride 2 -> 1\n",
    "\n",
    "model.add(Conv2D(filters = 384, kernel_size = (3, 3), strides = (1, 1), padding = 'same'))\n",
    "model.add(Activation('relu'))\n",
    "model.add(Conv2D(filters = 384, kernel_size = (3, 3), strides = (1, 1), padding = 'same'))\n",
    "model.add(Activation('relu'))\n",
    "model.add(Conv2D(filters = 256, kernel_size = (3, 3), strides = (1, 1), padding = 'same'))\n",
    "model.add(Activation('relu'))\n",
    "\n",
    "model.add(MaxPooling2D(pool_size = (3, 3), strides = (1, 1), padding = \"same\")) # stride 2 -> 1\n",
    "model.add(Flatten())\n",
    "model.add(Dense(4096))\n",
    "model.add(Activation('relu'))\n",
    "model.add(Dense(4096))\n",
    "model.add(Activation('relu'))\n",
    "model.add(Dense(num_classes))\n",
    "model.add(Activation('softmax'))\n",
    "model.summary()\n"
   ]
  },
  {
   "cell_type": "code",
   "execution_count": 5,
   "metadata": {},
   "outputs": [],
   "source": [
    "model.compile(loss='categorical_crossentropy',\n",
    "\toptimizer=tf.keras.optimizers.Adam(lr=0.0001, decay=1e-8),\n",
    "\tmetrics=['accuracy'])\n",
    "model.load_weights('saved_models/A_Model_Weights.h5')"
   ]
  },
  {
   "cell_type": "code",
   "execution_count": 6,
   "metadata": {},
   "outputs": [
    {
     "name": "stdout",
     "output_type": "stream",
     "text": [
      "_________________________________________________________________\n",
      "Layer (type)                 Output Shape              Param #   \n",
      "=================================================================\n",
      "conv2d_5 (Conv2D)            (None, 32, 32, 32)        2432      \n",
      "_________________________________________________________________\n",
      "activation_7 (Activation)    (None, 32, 32, 32)        0         \n",
      "_________________________________________________________________\n",
      "max_pooling2d_3 (MaxPooling2 (None, 31, 31, 32)        0         \n",
      "_________________________________________________________________\n",
      "conv2d_6 (Conv2D)            (None, 31, 31, 64)        18496     \n",
      "_________________________________________________________________\n",
      "activation_8 (Activation)    (None, 31, 31, 64)        0         \n",
      "_________________________________________________________________\n",
      "max_pooling2d_4 (MaxPooling2 (None, 30, 30, 64)        0         \n",
      "_________________________________________________________________\n",
      "conv2d_7 (Conv2D)            (None, 30, 30, 128)       73856     \n",
      "_________________________________________________________________\n",
      "activation_9 (Activation)    (None, 30, 30, 128)       0         \n",
      "_________________________________________________________________\n",
      "max_pooling2d_5 (MaxPooling2 (None, 29, 29, 128)       0         \n",
      "_________________________________________________________________\n",
      "flatten_1 (Flatten)          (None, 107648)            0         \n",
      "_________________________________________________________________\n",
      "dense_2 (Dense)              (None, 500)               53824500  \n",
      "_________________________________________________________________\n",
      "activation_10 (Activation)   (None, 500)               0         \n",
      "_________________________________________________________________\n",
      "dense_3 (Dense)              (None, 10)                5010      \n",
      "_________________________________________________________________\n",
      "activation_11 (Activation)   (None, 10)                0         \n",
      "=================================================================\n",
      "Total params: 53,924,294\n",
      "Trainable params: 53,924,294\n",
      "Non-trainable params: 0\n",
      "_________________________________________________________________\n"
     ]
    }
   ],
   "source": [
    "model2_1 = Sequential()\n",
    "model2_1.add(Conv2D(filters = 32, kernel_size = (5, 5), strides = (1, 1), padding = 'same', input_shape = x_train.shape[1:]))\n",
    "model2_1.add(Activation('relu'))\n",
    "model2_1.add(MaxPooling2D(pool_size = (2, 2), strides = (1, 1), padding = \"valid\"))\n",
    "\n",
    "model2_1.add(Conv2D(filters = 64, kernel_size = (3, 3), strides = (1, 1), padding = 'same'))\n",
    "model2_1.add(Activation('relu'))\n",
    "model2_1.add(MaxPooling2D(pool_size = (2, 2), strides = (1, 1), padding = \"valid\"))\n",
    "\n",
    "model2_1.add(Conv2D(filters = 128, kernel_size = (3, 3), strides = (1, 1), padding = 'same'))\n",
    "model2_1.add(Activation('relu'))\n",
    "model2_1.add(MaxPooling2D(pool_size = (2, 2), strides = (1, 1), padding = \"valid\"))\n",
    "\n",
    "model2_1.add(Flatten())\n",
    "model2_1.add(Dense(500))\n",
    "model2_1.add(Activation('relu'))\n",
    "model2_1.add(Dense(num_classes))\n",
    "model2_1.add(Activation('softmax'))\n",
    "model2_1.summary()"
   ]
  },
  {
   "cell_type": "code",
   "execution_count": 7,
   "metadata": {},
   "outputs": [],
   "source": [
    "def softmax(a) :\n",
    "    exp_a = np.exp(a)\n",
    "    sum_exp_a = np.sum(exp_a)\n",
    "    y = exp_a / sum_exp_a    \n",
    "    return y"
   ]
  },
  {
   "cell_type": "code",
   "execution_count": 8,
   "metadata": {},
   "outputs": [],
   "source": [
    "# Generate soft targets\n",
    "from tensorflow.keras.layers import Activation, Lambda, concatenate\n",
    "from tensorflow.keras.models import Model\n",
    "temperature = 1.0\n",
    "student_model1 = model\n",
    "soft_model = Model(inputs = student_model1.layers[0].input, outputs = student_model1.layers[-2].output)\n",
    "logits = soft_model.predict(x_train)\n",
    "logits_T = logits / temperature\n",
    "y_train_soft = np.array([softmax(logit) for logit in logits_T])"
   ]
  },
  {
   "cell_type": "code",
   "execution_count": null,
   "metadata": {},
   "outputs": [],
   "source": [
    "y_train_soft"
   ]
  },
  {
   "cell_type": "code",
   "execution_count": null,
   "metadata": {},
   "outputs": [],
   "source": []
  },
  {
   "cell_type": "code",
   "execution_count": 9,
   "metadata": {},
   "outputs": [],
   "source": [
    "# Knowledge_Distillation_Loss\n",
    "from keras.losses import categorical_crossentropy\n",
    "from keras import backend as K\n",
    "def knowledge_distillation_loss(y_true, y_pred, lambda_const):\n",
    "    y_true, logits = y_true[:, :num_classes], y_true[:, num_classes:]\n",
    "    y_soft = K.softmax(logits / temperature)\n",
    "    y_pred, y_pred_soft = y_pred[:, :num_classes], y_pred[:, num_classes:]\n",
    "    return lambda_const * categorical_crossentropy(y_true, y_pred) + (1-lambda_const) * categorical_crossentropy(y_soft, y_pred_soft)"
   ]
  },
  {
   "cell_type": "code",
   "execution_count": 10,
   "metadata": {},
   "outputs": [],
   "source": [
    "model2_1.compile(loss=lambda y_true, y_pred: knowledge_distillation_loss(y_true, y_pred, lambda_const = 0.1),\n",
    "               optimizer=tf.keras.optimizers.Adam(lr=0.0001, decay=1e-8), \n",
    "               metrics=['accuracy'])"
   ]
  },
  {
   "cell_type": "code",
   "execution_count": 11,
   "metadata": {},
   "outputs": [],
   "source": [
    "datagen = ImageDataGenerator(\n",
    "\twidth_shift_range=0.1,\n",
    "\theight_shift_range=0.1,\n",
    "\thorizontal_flip=True,  # randomly flip images\n",
    "\tvertical_flip=True)  # randomly flip images\n",
    "datagen.fit(x_train)"
   ]
  },
  {
   "cell_type": "code",
   "execution_count": 12,
   "metadata": {},
   "outputs": [
    {
     "name": "stdout",
     "output_type": "stream",
     "text": [
      "WARNING:tensorflow:From C:\\Users\\Justin\\AppData\\Local\\Continuum\\anaconda3\\lib\\site-packages\\tensorflow\\python\\ops\\math_ops.py:3066: to_int32 (from tensorflow.python.ops.math_ops) is deprecated and will be removed in a future version.\n",
      "Instructions for updating:\n",
      "Use tf.cast instead.\n",
      "10000/10000 [==============================] - 1s 107us/sample - loss: 0.1600 - acc: 0.4214\n",
      "98/98 [==============================] - 29s 296ms/step - loss: 0.1885 - acc: 0.3111 - val_loss: 0.1600 - val_acc: 0.4214\n"
     ]
    }
   ],
   "source": [
    "# Fit\n",
    "hist2 = model2_1.fit_generator(datagen.flow(x_train, y_train,\n",
    "\tbatch_size=batch_size),\n",
    "\tepochs=epochs,\n",
    "\tvalidation_data=(x_test, y_test),\n",
    "\tworkers=0)"
   ]
  },
  {
   "cell_type": "code",
   "execution_count": 13,
   "metadata": {},
   "outputs": [
    {
     "name": "stdout",
     "output_type": "stream",
     "text": [
      "Saved trained model at C:\\Users\\Justin\\Desktop\\Assignment1\\saved_models\\B_Model1_Weights.h5 \n"
     ]
    }
   ],
   "source": [
    "# Save model and weights\n",
    "if not os.path.isdir(save_dir):\n",
    "    os.makedirs(save_dir)\n",
    "model_path = os.path.join(save_dir, 'B_Model1_Weights.h5')\n",
    "model2_1.save(model_path)\n",
    "print('Saved trained model at %s ' % model_path)"
   ]
  },
  {
   "cell_type": "code",
   "execution_count": 14,
   "metadata": {},
   "outputs": [
    {
     "name": "stdout",
     "output_type": "stream",
     "text": [
      "50000/50000 [==============================] - 8s 155us/sample - loss: 0.1604 - acc: 0.4213\n",
      "Train loss: 0.16037867317199708\n",
      "Train accuracy: 0.42128\n",
      "10000/10000 [==============================] - 2s 153us/sample - loss: 0.1600 - acc: 0.4214\n",
      "Test loss: 0.15998547945022584\n",
      "Test accuracy: 0.4214\n"
     ]
    }
   ],
   "source": [
    "# Score trained model.\n",
    "train_scores = model2_1.evaluate(x_train, y_train, verbose=1)\n",
    "print('Train loss:', train_scores[0])\n",
    "print('Train accuracy:', train_scores[1])\n",
    "test_scores = model2_1.evaluate(x_test, y_test, verbose=1)\n",
    "print('Test loss:', test_scores[0])\n",
    "print('Test accuracy:', test_scores[1])"
   ]
  },
  {
   "cell_type": "code",
   "execution_count": 15,
   "metadata": {},
   "outputs": [
    {
     "data": {
      "image/png": "[encoded data removed]",
      "text/plain": [
       "<Figure size 432x288 with 1 Axes>"
      ]
     },
     "metadata": {},
     "output_type": "display_data"
    }
   ],
   "source": [
    "import matplotlib.pyplot as plt\n",
    "%matplotlib inline\n",
    "\n",
    "plt.plot(hist2.history['acc'])\n",
    "plt.plot(hist2.history['val_acc'])\n",
    "plt.title('model accuracy')\n",
    "plt.ylabel('accuracy')\n",
    "plt.xlabel('epoch')\n",
    "plt.legend(['Train Accuracy', 'Test Accuracy'], loc='upper left')\n",
    "plt.show()"
   ]
  },
  {
   "cell_type": "code",
   "execution_count": 16,
   "metadata": {},
   "outputs": [
    {
     "data": {
      "image/png": "[encoded data removed]",
      "text/plain": [
       "<Figure size 432x288 with 1 Axes>"
      ]
     },
     "metadata": {},
     "output_type": "display_data"
    }
   ],
   "source": [
    "## summarize history for loss\n",
    "plt.plot(hist2.history['loss'])\n",
    "plt.plot(hist2.history['val_loss'])\n",
    "plt.title('model loss')\n",
    "plt.ylabel('loss')\n",
    "plt.xlabel('epoch')\n",
    "plt.legend(['Train Loss', 'Test Loss'], loc='upper left')\n",
    "plt.show()"
   ]
  },
  {
   "cell_type": "code",
   "execution_count": 17,
   "metadata": {},
   "outputs": [
    {
     "name": "stdout",
     "output_type": "stream",
     "text": [
      "_________________________________________________________________\n",
      "Layer (type)                 Output Shape              Param #   \n",
      "=================================================================\n",
      "conv2d_8 (Conv2D)            (None, 32, 32, 32)        2432      \n",
      "_________________________________________________________________\n",
      "activation_12 (Activation)   (None, 32, 32, 32)        0         \n",
      "_________________________________________________________________\n",
      "max_pooling2d_6 (MaxPooling2 (None, 31, 31, 32)        0         \n",
      "_________________________________________________________________\n",
      "conv2d_9 (Conv2D)            (None, 31, 31, 64)        18496     \n",
      "_________________________________________________________________\n",
      "activation_13 (Activation)   (None, 31, 31, 64)        0         \n",
      "_________________________________________________________________\n",
      "max_pooling2d_7 (MaxPooling2 (None, 30, 30, 64)        0         \n",
      "_________________________________________________________________\n",
      "conv2d_10 (Conv2D)           (None, 30, 30, 128)       73856     \n",
      "_________________________________________________________________\n",
      "activation_14 (Activation)   (None, 30, 30, 128)       0         \n",
      "_________________________________________________________________\n",
      "max_pooling2d_8 (MaxPooling2 (None, 29, 29, 128)       0         \n",
      "_________________________________________________________________\n",
      "flatten_2 (Flatten)          (None, 107648)            0         \n",
      "_________________________________________________________________\n",
      "dense_4 (Dense)              (None, 500)               53824500  \n",
      "_________________________________________________________________\n",
      "activation_15 (Activation)   (None, 500)               0         \n",
      "_________________________________________________________________\n",
      "dense_5 (Dense)              (None, 10)                5010      \n",
      "_________________________________________________________________\n",
      "activation_16 (Activation)   (None, 10)                0         \n",
      "=================================================================\n",
      "Total params: 53,924,294\n",
      "Trainable params: 53,924,294\n",
      "Non-trainable params: 0\n",
      "_________________________________________________________________\n",
      "10000/10000 [==============================] - 1s 102us/sample - loss: 0.1669 - acc: 0.4031\n",
      "98/98 [==============================] - 28s 287ms/step - loss: 0.1951 - acc: 0.2944 - val_loss: 0.1669 - val_acc: 0.4031\n"
     ]
    }
   ],
   "source": [
    "model2_2 = Sequential()\n",
    "model2_2.add(Conv2D(filters = 32, kernel_size = (5, 5), strides = (1, 1), padding = 'same', input_shape = x_train.shape[1:]))\n",
    "model2_2.add(Activation('relu'))\n",
    "model2_2.add(MaxPooling2D(pool_size = (2, 2), strides = (1, 1), padding = \"valid\"))\n",
    "\n",
    "model2_2.add(Conv2D(filters = 64, kernel_size = (3, 3), strides = (1, 1), padding = 'same'))\n",
    "model2_2.add(Activation('relu'))\n",
    "model2_2.add(MaxPooling2D(pool_size = (2, 2), strides = (1, 1), padding = \"valid\"))\n",
    "\n",
    "model2_2.add(Conv2D(filters = 128, kernel_size = (3, 3), strides = (1, 1), padding = 'same'))\n",
    "model2_2.add(Activation('relu'))\n",
    "model2_2.add(MaxPooling2D(pool_size = (2, 2), strides = (1, 1), padding = \"valid\"))\n",
    "\n",
    "model2_2.add(Flatten())\n",
    "model2_2.add(Dense(500))\n",
    "model2_2.add(Activation('relu'))\n",
    "model2_2.add(Dense(num_classes))\n",
    "model2_2.add(Activation('softmax'))\n",
    "model2_2.summary()\n",
    "\n",
    "temperature = 5.0\n",
    "logits_T2 = logits / temperature\n",
    "y_train_soft2 = np.array([softmax(logit) for logit in logits_T2])\n",
    "\n",
    "model2_2.compile(loss=lambda y_true, y_pred: knowledge_distillation_loss(y_true, y_pred, lambda_const = 0.1),\n",
    "               optimizer=tf.keras.optimizers.Adam(lr=0.0001, decay=1e-8), \n",
    "               metrics=['accuracy'])\n",
    "\n",
    "# Fit\n",
    "hist3 = model2_2.fit_generator(datagen.flow(x_train, y_train,\n",
    "\tbatch_size=batch_size),\n",
    "\tepochs=epochs,\n",
    "\tvalidation_data=(x_test, y_test),\n",
    "\tworkers=0)"
   ]
  },
  {
   "cell_type": "code",
   "execution_count": 18,
   "metadata": {},
   "outputs": [
    {
     "name": "stdout",
     "output_type": "stream",
     "text": [
      "Saved trained model at C:\\Users\\Justin\\Desktop\\Assignment1\\saved_models\\B_Model2_Weights.h5 \n",
      "50000/50000 [==============================] - 8s 153us/sample - loss: 0.1674 - acc: 0.4016\n",
      "Train loss: 0.16738133883953094\n",
      "Train accuracy: 0.40156\n",
      "10000/10000 [==============================] - 2s 155us/sample - loss: 0.1669 - acc: 0.4031\n",
      "Test loss: 0.16686722779273988\n",
      "Test accuracy: 0.4031\n"
     ]
    }
   ],
   "source": [
    "# Save model and weights\n",
    "if not os.path.isdir(save_dir):\n",
    "    os.makedirs(save_dir)\n",
    "model_path = os.path.join(save_dir, 'B_Model2_Weights.h5')\n",
    "model2_2.save(model_path)\n",
    "print('Saved trained model at %s ' % model_path)\n",
    "\n",
    "# Score trained model.\n",
    "train_scores2 = model2_2.evaluate(x_train, y_train, verbose=1)\n",
    "print('Train loss:', train_scores2[0])\n",
    "print('Train accuracy:', train_scores2[1])\n",
    "test_scores2 = model2_2.evaluate(x_test, y_test, verbose=1)\n",
    "print('Test loss:', test_scores2[0])\n",
    "print('Test accuracy:', test_scores2[1])"
   ]
  },
  {
   "cell_type": "code",
   "execution_count": 19,
   "metadata": {},
   "outputs": [
    {
     "data": {
      "image/png": "[encoded data removed]",
      "text/plain": [
       "<Figure size 432x288 with 1 Axes>"
      ]
     },
     "metadata": {},
     "output_type": "display_data"
    }
   ],
   "source": [
    "import matplotlib.pyplot as plt\n",
    "%matplotlib inline\n",
    "\n",
    "plt.plot(hist3.history['acc'])\n",
    "plt.plot(hist3.history['val_acc'])\n",
    "plt.title('model accuracy')\n",
    "plt.ylabel('accuracy')\n",
    "plt.xlabel('epoch')\n",
    "plt.legend(['Train Accuracy', 'Test Accuracy'], loc='upper left')\n",
    "plt.show()"
   ]
  },
  {
   "cell_type": "code",
   "execution_count": 20,
   "metadata": {},
   "outputs": [
    {
     "data": {
      "image/png": "[encoded data removed]",
      "text/plain": [
       "<Figure size 432x288 with 1 Axes>"
      ]
     },
     "metadata": {},
     "output_type": "display_data"
    }
   ],
   "source": [
    "## summarize history for loss\n",
    "plt.plot(hist3.history['loss'])\n",
    "plt.plot(hist3.history['val_loss'])\n",
    "plt.title('model loss')\n",
    "plt.ylabel('loss')\n",
    "plt.xlabel('epoch')\n",
    "plt.legend(['Train Loss', 'Test Loss'], loc='upper left')\n",
    "plt.show()"
   ]
  },
  {
   "cell_type": "code",
   "execution_count": 21,
   "metadata": {},
   "outputs": [
    {
     "name": "stdout",
     "output_type": "stream",
     "text": [
      "_________________________________________________________________\n",
      "Layer (type)                 Output Shape              Param #   \n",
      "=================================================================\n",
      "conv2d_11 (Conv2D)           (None, 32, 32, 32)        2432      \n",
      "_________________________________________________________________\n",
      "activation_17 (Activation)   (None, 32, 32, 32)        0         \n",
      "_________________________________________________________________\n",
      "max_pooling2d_9 (MaxPooling2 (None, 31, 31, 32)        0         \n",
      "_________________________________________________________________\n",
      "conv2d_12 (Conv2D)           (None, 31, 31, 64)        18496     \n",
      "_________________________________________________________________\n",
      "activation_18 (Activation)   (None, 31, 31, 64)        0         \n",
      "_________________________________________________________________\n",
      "max_pooling2d_10 (MaxPooling (None, 30, 30, 64)        0         \n",
      "_________________________________________________________________\n",
      "conv2d_13 (Conv2D)           (None, 30, 30, 128)       73856     \n",
      "_________________________________________________________________\n",
      "activation_19 (Activation)   (None, 30, 30, 128)       0         \n",
      "_________________________________________________________________\n",
      "max_pooling2d_11 (MaxPooling (None, 29, 29, 128)       0         \n",
      "_________________________________________________________________\n",
      "flatten_3 (Flatten)          (None, 107648)            0         \n",
      "_________________________________________________________________\n",
      "dense_6 (Dense)              (None, 500)               53824500  \n",
      "_________________________________________________________________\n",
      "activation_20 (Activation)   (None, 500)               0         \n",
      "_________________________________________________________________\n",
      "dense_7 (Dense)              (None, 10)                5010      \n",
      "_________________________________________________________________\n",
      "activation_21 (Activation)   (None, 10)                0         \n",
      "=================================================================\n",
      "Total params: 53,924,294\n",
      "Trainable params: 53,924,294\n",
      "Non-trainable params: 0\n",
      "_________________________________________________________________\n",
      "10000/10000 [==============================] - 1s 105us/sample - loss: 0.1691 - acc: 0.3752\n",
      "98/98 [==============================] - 29s 294ms/step - loss: 0.1912 - acc: 0.3052 - val_loss: 0.1691 - val_acc: 0.3752\n"
     ]
    }
   ],
   "source": [
    "model2_3 = Sequential()\n",
    "model2_3.add(Conv2D(filters = 32, kernel_size = (5, 5), strides = (1, 1), padding = 'same', input_shape = x_train.shape[1:]))\n",
    "model2_3.add(Activation('relu'))\n",
    "model2_3.add(MaxPooling2D(pool_size = (2, 2), strides = (1, 1), padding = \"valid\"))\n",
    "\n",
    "model2_3.add(Conv2D(filters = 64, kernel_size = (3, 3), strides = (1, 1), padding = 'same'))\n",
    "model2_3.add(Activation('relu'))\n",
    "model2_3.add(MaxPooling2D(pool_size = (2, 2), strides = (1, 1), padding = \"valid\"))\n",
    "\n",
    "model2_3.add(Conv2D(filters = 128, kernel_size = (3, 3), strides = (1, 1), padding = 'same'))\n",
    "model2_3.add(Activation('relu'))\n",
    "model2_3.add(MaxPooling2D(pool_size = (2, 2), strides = (1, 1), padding = \"valid\"))\n",
    "\n",
    "model2_3.add(Flatten())\n",
    "model2_3.add(Dense(500))\n",
    "model2_3.add(Activation('relu'))\n",
    "model2_3.add(Dense(num_classes))\n",
    "model2_3.add(Activation('softmax'))\n",
    "model2_3.summary()\n",
    "\n",
    "temperature = 10.0\n",
    "logits_T3 = logits / temperature\n",
    "y_train_soft3 = np.array([softmax(logit) for logit in logits_T3])\n",
    "\n",
    "model2_3.compile(loss=lambda y_true, y_pred: knowledge_distillation_loss(y_true, y_pred, lambda_const = 0.1),\n",
    "               optimizer=tf.keras.optimizers.Adam(lr=0.0001, decay=1e-8), \n",
    "               metrics=['accuracy'])\n",
    "\n",
    "# Fit\n",
    "hist4 = model2_3.fit_generator(datagen.flow(x_train, y_train,\n",
    "\tbatch_size=batch_size),\n",
    "\tepochs=epochs,\n",
    "\tvalidation_data=(x_test, y_test),\n",
    "\tworkers=0)"
   ]
  },
  {
   "cell_type": "code",
   "execution_count": 22,
   "metadata": {},
   "outputs": [
    {
     "name": "stdout",
     "output_type": "stream",
     "text": [
      "Saved trained model at C:\\Users\\Justin\\Desktop\\Assignment1\\saved_models\\B_Model3_Weights.h5 \n",
      "50000/50000 [==============================] - 8s 155us/sample - loss: 0.1704 - acc: 0.3704\n",
      "Train loss: 0.17043983269691468\n",
      "Train accuracy: 0.37036\n",
      "10000/10000 [==============================] - 2s 155us/sample - loss: 0.1691 - acc: 0.3752\n",
      "Test loss: 0.16905596699714662\n",
      "Test accuracy: 0.3752\n"
     ]
    }
   ],
   "source": [
    "# Save model and weights\n",
    "if not os.path.isdir(save_dir):\n",
    "    os.makedirs(save_dir)\n",
    "model_path = os.path.join(save_dir, 'B_Model3_Weights.h5')\n",
    "model2_3.save(model_path)\n",
    "print('Saved trained model at %s ' % model_path)\n",
    "\n",
    "# Score trained model.\n",
    "train_scores3 = model2_3.evaluate(x_train, y_train, verbose=1)\n",
    "print('Train loss:', train_scores3[0])\n",
    "print('Train accuracy:', train_scores3[1])\n",
    "test_scores3 = model2_3.evaluate(x_test, y_test, verbose=1)\n",
    "print('Test loss:', test_scores3[0])\n",
    "print('Test accuracy:', test_scores3[1])"
   ]
  },
  {
   "cell_type": "code",
   "execution_count": 23,
   "metadata": {},
   "outputs": [
    {
     "data": {
      "image/png": "[encoded data removed]",
      "text/plain": [
       "<Figure size 432x288 with 1 Axes>"
      ]
     },
     "metadata": {},
     "output_type": "display_data"
    }
   ],
   "source": [
    "import matplotlib.pyplot as plt\n",
    "%matplotlib inline\n",
    "\n",
    "plt.plot(hist4.history['acc'])\n",
    "plt.plot(hist4.history['val_acc'])\n",
    "plt.title('model accuracy')\n",
    "plt.ylabel('accuracy')\n",
    "plt.xlabel('epoch')\n",
    "plt.legend(['Train Accuracy', 'Test Accuracy'], loc='upper left')\n",
    "plt.show()"
   ]
  },
  {
   "cell_type": "code",
   "execution_count": 24,
   "metadata": {},
   "outputs": [
    {
     "data": {
      "image/png": "[encoded data removed]",
      "text/plain": [
       "<Figure size 432x288 with 1 Axes>"
      ]
     },
     "metadata": {},
     "output_type": "display_data"
    }
   ],
   "source": [
    "## summarize history for loss\n",
    "plt.plot(hist4.history['loss'])\n",
    "plt.plot(hist4.history['val_loss'])\n",
    "plt.title('model loss')\n",
    "plt.ylabel('loss')\n",
    "plt.xlabel('epoch')\n",
    "plt.legend(['Train Loss', 'Test Loss'], loc='upper left')\n",
    "plt.show()"
   ]
  },
  {
   "cell_type": "code",
   "execution_count": 25,
   "metadata": {},
   "outputs": [
    {
     "name": "stdout",
     "output_type": "stream",
     "text": [
      "_________________________________________________________________\n",
      "Layer (type)                 Output Shape              Param #   \n",
      "=================================================================\n",
      "conv2d_14 (Conv2D)           (None, 32, 32, 32)        2432      \n",
      "_________________________________________________________________\n",
      "activation_22 (Activation)   (None, 32, 32, 32)        0         \n",
      "_________________________________________________________________\n",
      "max_pooling2d_12 (MaxPooling (None, 31, 31, 32)        0         \n",
      "_________________________________________________________________\n",
      "conv2d_15 (Conv2D)           (None, 31, 31, 64)        18496     \n",
      "_________________________________________________________________\n",
      "activation_23 (Activation)   (None, 31, 31, 64)        0         \n",
      "_________________________________________________________________\n",
      "max_pooling2d_13 (MaxPooling (None, 30, 30, 64)        0         \n",
      "_________________________________________________________________\n",
      "conv2d_16 (Conv2D)           (None, 30, 30, 128)       73856     \n",
      "_________________________________________________________________\n",
      "activation_24 (Activation)   (None, 30, 30, 128)       0         \n",
      "_________________________________________________________________\n",
      "max_pooling2d_14 (MaxPooling (None, 29, 29, 128)       0         \n",
      "_________________________________________________________________\n",
      "flatten_4 (Flatten)          (None, 107648)            0         \n",
      "_________________________________________________________________\n",
      "dense_8 (Dense)              (None, 500)               53824500  \n",
      "_________________________________________________________________\n",
      "activation_25 (Activation)   (None, 500)               0         \n",
      "_________________________________________________________________\n",
      "dense_9 (Dense)              (None, 10)                5010      \n",
      "_________________________________________________________________\n",
      "activation_26 (Activation)   (None, 10)                0         \n",
      "=================================================================\n",
      "Total params: 53,924,294\n",
      "Trainable params: 53,924,294\n",
      "Non-trainable params: 0\n",
      "_________________________________________________________________\n",
      "10000/10000 [==============================] - 1s 104us/sample - loss: 0.1720 - acc: 0.3839\n",
      "98/98 [==============================] - 29s 293ms/step - loss: 0.1941 - acc: 0.3022 - val_loss: 0.1720 - val_acc: 0.3839\n"
     ]
    }
   ],
   "source": [
    "model2_4 = Sequential()\n",
    "model2_4.add(Conv2D(filters = 32, kernel_size = (5, 5), strides = (1, 1), padding = 'same', input_shape = x_train.shape[1:]))\n",
    "model2_4.add(Activation('relu'))\n",
    "model2_4.add(MaxPooling2D(pool_size = (2, 2), strides = (1, 1), padding = \"valid\"))\n",
    "\n",
    "model2_4.add(Conv2D(filters = 64, kernel_size = (3, 3), strides = (1, 1), padding = 'same'))\n",
    "model2_4.add(Activation('relu'))\n",
    "model2_4.add(MaxPooling2D(pool_size = (2, 2), strides = (1, 1), padding = \"valid\"))\n",
    "\n",
    "model2_4.add(Conv2D(filters = 128, kernel_size = (3, 3), strides = (1, 1), padding = 'same'))\n",
    "model2_4.add(Activation('relu'))\n",
    "model2_4.add(MaxPooling2D(pool_size = (2, 2), strides = (1, 1), padding = \"valid\"))\n",
    "\n",
    "model2_4.add(Flatten())\n",
    "model2_4.add(Dense(500))\n",
    "model2_4.add(Activation('relu'))\n",
    "model2_4.add(Dense(num_classes))\n",
    "model2_4.add(Activation('softmax'))\n",
    "model2_4.summary()\n",
    "\n",
    "temperature = 20.0\n",
    "logits_T4 = logits / temperature\n",
    "y_train_soft4 = np.array([softmax(logit) for logit in logits_T4])\n",
    "\n",
    "model2_4.compile(loss=lambda y_true, y_pred: knowledge_distillation_loss(y_true, y_pred, lambda_const = 0.1),\n",
    "               optimizer=tf.keras.optimizers.Adam(lr=0.0001, decay=1e-8), \n",
    "               metrics=['accuracy'])\n",
    "\n",
    "# Fit\n",
    "hist5 = model2_4.fit_generator(datagen.flow(x_train, y_train,\n",
    "\tbatch_size=batch_size),\n",
    "\tepochs=epochs,\n",
    "\tvalidation_data=(x_test, y_test),\n",
    "\tworkers=0)"
   ]
  },
  {
   "cell_type": "code",
   "execution_count": 26,
   "metadata": {},
   "outputs": [
    {
     "name": "stdout",
     "output_type": "stream",
     "text": [
      "Saved trained model at C:\\Users\\Justin\\Desktop\\Assignment1\\saved_models\\B_Model4_Weights.h5 \n",
      "50000/50000 [==============================] - 8s 165us/sample - loss: 0.1722 - acc: 0.3812\n",
      "Train loss: 0.1721597692680359\n",
      "Train accuracy: 0.38116\n",
      "10000/10000 [==============================] - 2s 163us/sample - loss: 0.1720 - acc: 0.3839\n",
      "Test loss: 0.172025977396965\n",
      "Test accuracy: 0.3839\n"
     ]
    }
   ],
   "source": [
    "# Save model and weights\n",
    "if not os.path.isdir(save_dir):\n",
    "    os.makedirs(save_dir)\n",
    "model_path = os.path.join(save_dir, 'B_Model4_Weights.h5')\n",
    "model2_4.save(model_path)\n",
    "print('Saved trained model at %s ' % model_path)\n",
    "\n",
    "# Score trained model.\n",
    "train_scores4 = model2_4.evaluate(x_train, y_train, verbose=1)\n",
    "print('Train loss:', train_scores4[0])\n",
    "print('Train accuracy:', train_scores4[1])\n",
    "test_scores4 = model2_4.evaluate(x_test, y_test, verbose=1)\n",
    "print('Test loss:', test_scores4[0])\n",
    "print('Test accuracy:', test_scores4[1])"
   ]
  },
  {
   "cell_type": "code",
   "execution_count": 27,
   "metadata": {},
   "outputs": [
    {
     "data": {
      "image/png": "[encoded data removed]",
      "text/plain": [
       "<Figure size 432x288 with 1 Axes>"
      ]
     },
     "metadata": {},
     "output_type": "display_data"
    }
   ],
   "source": [
    "import matplotlib.pyplot as plt\n",
    "%matplotlib inline\n",
    "\n",
    "plt.plot(hist5.history['acc'])\n",
    "plt.plot(hist5.history['val_acc'])\n",
    "plt.title('model accuracy')\n",
    "plt.ylabel('accuracy')\n",
    "plt.xlabel('epoch')\n",
    "plt.legend(['Train Accuracy', 'Test Accuracy'], loc='upper left')\n",
    "plt.show()"
   ]
  },
  {
   "cell_type": "code",
   "execution_count": 28,
   "metadata": {},
   "outputs": [
    {
     "data": {
      "image/png": "[encoded data removed]",
      "text/plain": [
       "<Figure size 432x288 with 1 Axes>"
      ]
     },
     "metadata": {},
     "output_type": "display_data"
    }
   ],
   "source": [
    "## summarize history for loss\n",
    "plt.plot(hist5.history['loss'])\n",
    "plt.plot(hist5.history['val_loss'])\n",
    "plt.title('model loss')\n",
    "plt.ylabel('loss')\n",
    "plt.xlabel('epoch')\n",
    "plt.legend(['Train Loss', 'Test Loss'], loc='upper left')\n",
    "plt.show()"
   ]
  },
  {
   "cell_type": "code",
   "execution_count": 29,
   "metadata": {},
   "outputs": [
    {
     "name": "stdout",
     "output_type": "stream",
     "text": [
      "_________________________________________________________________\n",
      "Layer (type)                 Output Shape              Param #   \n",
      "=================================================================\n",
      "conv2d_17 (Conv2D)           (None, 32, 32, 32)        2432      \n",
      "_________________________________________________________________\n",
      "activation_27 (Activation)   (None, 32, 32, 32)        0         \n",
      "_________________________________________________________________\n",
      "max_pooling2d_15 (MaxPooling (None, 31, 31, 32)        0         \n",
      "_________________________________________________________________\n",
      "conv2d_18 (Conv2D)           (None, 31, 31, 64)        18496     \n",
      "_________________________________________________________________\n",
      "activation_28 (Activation)   (None, 31, 31, 64)        0         \n",
      "_________________________________________________________________\n",
      "max_pooling2d_16 (MaxPooling (None, 30, 30, 64)        0         \n",
      "_________________________________________________________________\n",
      "conv2d_19 (Conv2D)           (None, 30, 30, 128)       73856     \n",
      "_________________________________________________________________\n",
      "activation_29 (Activation)   (None, 30, 30, 128)       0         \n",
      "_________________________________________________________________\n",
      "max_pooling2d_17 (MaxPooling (None, 29, 29, 128)       0         \n",
      "_________________________________________________________________\n",
      "flatten_5 (Flatten)          (None, 107648)            0         \n",
      "_________________________________________________________________\n",
      "dense_10 (Dense)             (None, 500)               53824500  \n",
      "_________________________________________________________________\n",
      "activation_30 (Activation)   (None, 500)               0         \n",
      "_________________________________________________________________\n",
      "dense_11 (Dense)             (None, 10)                5010      \n",
      "_________________________________________________________________\n",
      "activation_31 (Activation)   (None, 10)                0         \n",
      "=================================================================\n",
      "Total params: 53,924,294\n",
      "Trainable params: 53,924,294\n",
      "Non-trainable params: 0\n",
      "_________________________________________________________________\n",
      "10000/10000 [==============================] - 1s 108us/sample - loss: 1.5775 - acc: 0.4299\n",
      "98/98 [==============================] - 29s 291ms/step - loss: 1.8566 - acc: 0.3317 - val_loss: 1.5775 - val_acc: 0.4299\n",
      "Saved trained model at C:\\Users\\Justin\\Desktop\\Assignment1\\saved_models\\B_Model5_Weights.h5 \n",
      "50000/50000 [==============================] - 8s 167us/sample - loss: 1.5847 - acc: 0.4291\n",
      "Train loss: 1.5846823941802979\n",
      "Train accuracy: 0.42912\n",
      "10000/10000 [==============================] - 2s 166us/sample - loss: 1.5775 - acc: 0.4299\n",
      "Test loss: 1.577516667175293\n",
      "Test accuracy: 0.4299\n"
     ]
    },
    {
     "data": {
      "image/png": "[encoded data removed]",
      "text/plain": [
       "<Figure size 432x288 with 1 Axes>"
      ]
     },
     "metadata": {},
     "output_type": "display_data"
    },
    {
     "data": {
      "image/png": "[encoded data removed]",
      "text/plain": [
       "<Figure size 432x288 with 1 Axes>"
      ]
     },
     "metadata": {},
     "output_type": "display_data"
    }
   ],
   "source": [
    "model2_5 = Sequential()\n",
    "model2_5.add(Conv2D(filters = 32, kernel_size = (5, 5), strides = (1, 1), padding = 'same', input_shape = x_train.shape[1:]))\n",
    "model2_5.add(Activation('relu'))\n",
    "model2_5.add(MaxPooling2D(pool_size = (2, 2), strides = (1, 1), padding = \"valid\"))\n",
    "\n",
    "model2_5.add(Conv2D(filters = 64, kernel_size = (3, 3), strides = (1, 1), padding = 'same'))\n",
    "model2_5.add(Activation('relu'))\n",
    "model2_5.add(MaxPooling2D(pool_size = (2, 2), strides = (1, 1), padding = \"valid\"))\n",
    "\n",
    "model2_5.add(Conv2D(filters = 128, kernel_size = (3, 3), strides = (1, 1), padding = 'same'))\n",
    "model2_5.add(Activation('relu'))\n",
    "model2_5.add(MaxPooling2D(pool_size = (2, 2), strides = (1, 1), padding = \"valid\"))\n",
    "\n",
    "model2_5.add(Flatten())\n",
    "model2_5.add(Dense(500))\n",
    "model2_5.add(Activation('relu'))\n",
    "model2_5.add(Dense(num_classes))\n",
    "model2_5.add(Activation('softmax'))\n",
    "model2_5.summary()\n",
    "\n",
    "temperature = 20.0\n",
    "logits_T5 = logits / temperature\n",
    "y_train_soft5 = np.array([softmax(logit) for logit in logits_T5])\n",
    "\n",
    "model2_5.compile(loss=lambda y_true, y_pred: knowledge_distillation_loss(y_true, y_pred, lambda_const = 1),\n",
    "               optimizer=tf.keras.optimizers.Adam(lr=0.0001, decay=1e-8), \n",
    "               metrics=['accuracy'])\n",
    "\n",
    "# Fit\n",
    "hist6 = model2_5.fit_generator(datagen.flow(x_train, y_train,\n",
    "\tbatch_size=batch_size),\n",
    "\tepochs=epochs,\n",
    "\tvalidation_data=(x_test, y_test),\n",
    "\tworkers=0)\n",
    "\n",
    "# Save model and weights\n",
    "if not os.path.isdir(save_dir):\n",
    "    os.makedirs(save_dir)\n",
    "model_path = os.path.join(save_dir, 'B_Model5_Weights.h5')\n",
    "model2_5.save(model_path)\n",
    "print('Saved trained model at %s ' % model_path)\n",
    "\n",
    "# Score trained model.\n",
    "train_scores5 = model2_5.evaluate(x_train, y_train, verbose=1)\n",
    "print('Train loss:', train_scores5[0])\n",
    "print('Train accuracy:', train_scores5[1])\n",
    "test_scores5 = model2_5.evaluate(x_test, y_test, verbose=1)\n",
    "print('Test loss:', test_scores5[0])\n",
    "print('Test accuracy:', test_scores5[1])\n",
    "\n",
    "import matplotlib.pyplot as plt\n",
    "%matplotlib inline\n",
    "\n",
    "plt.plot(hist6.history['acc'])\n",
    "plt.plot(hist6.history['val_acc'])\n",
    "plt.title('model accuracy')\n",
    "plt.ylabel('accuracy')\n",
    "plt.xlabel('epoch')\n",
    "plt.legend(['Train Accuracy', 'Test Accuracy'], loc='upper left')\n",
    "plt.show()\n",
    "\n",
    "## summarize history for loss\n",
    "plt.plot(hist6.history['loss'])\n",
    "plt.plot(hist6.history['val_loss'])\n",
    "plt.title('model loss')\n",
    "plt.ylabel('loss')\n",
    "plt.xlabel('epoch')\n",
    "plt.legend(['Train Loss', 'Test Loss'], loc='upper left')\n",
    "plt.show()"
   ]
  },
  {
   "cell_type": "code",
   "execution_count": 30,
   "metadata": {},
   "outputs": [
    {
     "name": "stdout",
     "output_type": "stream",
     "text": [
      "_________________________________________________________________\n",
      "Layer (type)                 Output Shape              Param #   \n",
      "=================================================================\n",
      "conv2d_20 (Conv2D)           (None, 32, 32, 32)        2432      \n",
      "_________________________________________________________________\n",
      "activation_32 (Activation)   (None, 32, 32, 32)        0         \n",
      "_________________________________________________________________\n",
      "max_pooling2d_18 (MaxPooling (None, 31, 31, 32)        0         \n",
      "_________________________________________________________________\n",
      "conv2d_21 (Conv2D)           (None, 31, 31, 64)        18496     \n",
      "_________________________________________________________________\n",
      "activation_33 (Activation)   (None, 31, 31, 64)        0         \n",
      "_________________________________________________________________\n",
      "max_pooling2d_19 (MaxPooling (None, 30, 30, 64)        0         \n",
      "_________________________________________________________________\n",
      "conv2d_22 (Conv2D)           (None, 30, 30, 128)       73856     \n",
      "_________________________________________________________________\n",
      "activation_34 (Activation)   (None, 30, 30, 128)       0         \n",
      "_________________________________________________________________\n",
      "max_pooling2d_20 (MaxPooling (None, 29, 29, 128)       0         \n",
      "_________________________________________________________________\n",
      "flatten_6 (Flatten)          (None, 107648)            0         \n",
      "_________________________________________________________________\n",
      "dense_12 (Dense)             (None, 500)               53824500  \n",
      "_________________________________________________________________\n",
      "activation_35 (Activation)   (None, 500)               0         \n",
      "_________________________________________________________________\n",
      "dense_13 (Dense)             (None, 10)                5010      \n",
      "_________________________________________________________________\n",
      "activation_36 (Activation)   (None, 10)                0         \n",
      "=================================================================\n",
      "Total params: 53,924,294\n",
      "Trainable params: 53,924,294\n",
      "Non-trainable params: 0\n",
      "_________________________________________________________________\n",
      "10000/10000 [==============================] - 1s 106us/sample - loss: 0.0000e+00 - acc: 0.0930\n",
      "98/98 [==============================] - 28s 291ms/step - loss: 0.0000e+00 - acc: 0.1047 - val_loss: 0.0000e+00 - val_acc: 0.0930\n",
      "Saved trained model at C:\\Users\\Justin\\Desktop\\Assignment1\\saved_models\\B_Model6_Weights.h5 \n",
      "50000/50000 [==============================] - 8s 161us/sample - loss: 0.0000e+00 - acc: 0.0923\n",
      "Train loss: 1.5846823941802979\n",
      "Train accuracy: 0.42912\n",
      "10000/10000 [==============================] - 2s 159us/sample - loss: 0.0000e+00 - acc: 0.0930\n",
      "Test loss: 1.577516667175293\n",
      "Test accuracy: 0.4299\n"
     ]
    },
    {
     "data": {
      "image/png": "[encoded data removed]",
      "text/plain": [
       "<Figure size 432x288 with 1 Axes>"
      ]
     },
     "metadata": {},
     "output_type": "display_data"
    },
    {
     "data": {
      "image/png": "[encoded data removed]",
      "text/plain": [
       "<Figure size 432x288 with 1 Axes>"
      ]
     },
     "metadata": {},
     "output_type": "display_data"
    }
   ],
   "source": [
    "model2_6 = Sequential()\n",
    "model2_6.add(Conv2D(filters = 32, kernel_size = (5, 5), strides = (1, 1), padding = 'same', input_shape = x_train.shape[1:]))\n",
    "model2_6.add(Activation('relu'))\n",
    "model2_6.add(MaxPooling2D(pool_size = (2, 2), strides = (1, 1), padding = \"valid\"))\n",
    "\n",
    "model2_6.add(Conv2D(filters = 64, kernel_size = (3, 3), strides = (1, 1), padding = 'same'))\n",
    "model2_6.add(Activation('relu'))\n",
    "model2_6.add(MaxPooling2D(pool_size = (2, 2), strides = (1, 1), padding = \"valid\"))\n",
    "\n",
    "model2_6.add(Conv2D(filters = 128, kernel_size = (3, 3), strides = (1, 1), padding = 'same'))\n",
    "model2_6.add(Activation('relu'))\n",
    "model2_6.add(MaxPooling2D(pool_size = (2, 2), strides = (1, 1), padding = \"valid\"))\n",
    "\n",
    "model2_6.add(Flatten())\n",
    "model2_6.add(Dense(500))\n",
    "model2_6.add(Activation('relu'))\n",
    "model2_6.add(Dense(num_classes))\n",
    "model2_6.add(Activation('softmax'))\n",
    "model2_6.summary()\n",
    "\n",
    "temperature = 20.0\n",
    "logits_T6 = logits / temperature\n",
    "y_train_soft6 = np.array([softmax(logit) for logit in logits_T6])\n",
    "\n",
    "model2_6.compile(loss=lambda y_true, y_pred: knowledge_distillation_loss(y_true, y_pred, lambda_const = 0),\n",
    "               optimizer=tf.keras.optimizers.Adam(lr=0.0001, decay=1e-8), \n",
    "               metrics=['accuracy'])\n",
    "\n",
    "# Fit\n",
    "hist7 = model2_6.fit_generator(datagen.flow(x_train, y_train,\n",
    "\tbatch_size=batch_size),\n",
    "\tepochs=epochs,\n",
    "\tvalidation_data=(x_test, y_test),\n",
    "\tworkers=0)\n",
    "\n",
    "# Save model and weights\n",
    "if not os.path.isdir(save_dir):\n",
    "    os.makedirs(save_dir)\n",
    "model_path = os.path.join(save_dir, 'B_Model6_Weights.h5')\n",
    "model2_6.save(model_path)\n",
    "print('Saved trained model at %s ' % model_path)\n",
    "\n",
    "# Score trained model.\n",
    "train_scores6 = model2_6.evaluate(x_train, y_train, verbose=1)\n",
    "print('Train loss:', train_scores5[0])\n",
    "print('Train accuracy:', train_scores5[1])\n",
    "test_scores6 = model2_6.evaluate(x_test, y_test, verbose=1)\n",
    "print('Test loss:', test_scores5[0])\n",
    "print('Test accuracy:', test_scores5[1])\n",
    "\n",
    "import matplotlib.pyplot as plt\n",
    "%matplotlib inline\n",
    "\n",
    "plt.plot(hist7.history['acc'])\n",
    "plt.plot(hist7.history['val_acc'])\n",
    "plt.title('model accuracy')\n",
    "plt.ylabel('accuracy')\n",
    "plt.xlabel('epoch')\n",
    "plt.legend(['Train Accuracy', 'Test Accuracy'], loc='upper left')\n",
    "plt.show()\n",
    "\n",
    "## summarize history for loss\n",
    "plt.plot(hist7.history['loss'])\n",
    "plt.plot(hist7.history['val_loss'])\n",
    "plt.title('model loss')\n",
    "plt.ylabel('loss')\n",
    "plt.xlabel('epoch')\n",
    "plt.legend(['Train Loss', 'Test Loss'], loc='upper left')\n",
    "plt.show()"
   ]
  },
  {
   "cell_type": "code",
   "execution_count": null,
   "metadata": {},
   "outputs": [],
   "source": []
  }
 ],
 "metadata": {
  "kernelspec": {
   "display_name": "Python 3",
   "language": "python",
   "name": "python3"
  },
  "language_info": {
   "codemirror_mode": {
    "name": "ipython",
    "version": 3
   },
   "file_extension": ".py",
   "mimetype": "text/x-python",
   "name": "python",
   "nbconvert_exporter": "python",
   "pygments_lexer": "ipython3",
   "version": "3.6.5"
  }
 },
 "nbformat": 4,
 "nbformat_minor": 2
}
