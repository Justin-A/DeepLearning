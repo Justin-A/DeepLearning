{
 "cells": [
  {
   "cell_type": "code",
   "execution_count": 1,
   "metadata": {},
   "outputs": [],
   "source": [
    "from __future__ import absolute_import, division, print_function\n",
    "\n",
    "import numpy as np\n",
    "import random\n",
    "import tensorflow as tf\n",
    "from tensorflow.keras import Model, layers"
   ]
  },
  {
   "cell_type": "code",
   "execution_count": 2,
   "metadata": {},
   "outputs": [],
   "source": [
    "seq_min_len = 5\n",
    "seq_max_len = 20\n",
    "num_classes = 2\n",
    "\n",
    "masking_val = -1\n",
    "max_value = 10000\n",
    "\n",
    "learning_rate = 0.001\n",
    "training_steps = 2000\n",
    "batch_size = 64\n",
    "display_step = 100\n",
    "num_units = 32"
   ]
  },
  {
   "cell_type": "code",
   "execution_count": 3,
   "metadata": {},
   "outputs": [],
   "source": [
    "def toy_sequence_data():\n",
    "    while True:\n",
    "        seq_len = random.randint(seq_min_len, seq_max_len)\n",
    "        rand_start = random.randint(0, max_value - seq_len)\n",
    "        if random.random() < 0.5:\n",
    "            seq = np.arange(start = rand_start, stop = rand_start + seq_len)\n",
    "            seq = seq / max_value\n",
    "            seq = np.pad(seq, mode = 'constant', pad_width = (0, seq_max_len - seq_len), constant_values = masking_val)\n",
    "            label = 0\n",
    "        else:\n",
    "            seq = np.random.randint(max_value, size = seq_len)\n",
    "            seq = seq / max_value\n",
    "            seq = np.pad(seq, mode = 'constant', pad_width = (0, seq_max_len - seq_len), constant_values = masking_val)\n",
    "            label = 1\n",
    "        yield np.array(seq, dtype = np.float32), np.array(label, dtype = np.float32)"
   ]
  },
  {
   "cell_type": "code",
   "execution_count": 4,
   "metadata": {},
   "outputs": [],
   "source": [
    "train_data = tf.data.Dataset.from_generator(toy_sequence_data, output_types = (tf.float32, tf.float32))\n",
    "train_data = train_data.repeat().shuffle(5000).batch(batch_size).prefetch(1)"
   ]
  },
  {
   "cell_type": "code",
   "execution_count": 5,
   "metadata": {},
   "outputs": [],
   "source": [
    "class LSTM(Model):\n",
    "    def __init__(self):\n",
    "        super(LSTM, self).__init__()\n",
    "        self.masking = layers.Masking(mask_value = masking_val)\n",
    "        self.lstm = layers.LSTM(units = num_units)\n",
    "        self.out = layers.Dense(num_classes)\n",
    "    \n",
    "    def call(self, x, is_training = False):\n",
    "        x = tf.reshape(x, shape = [-1, seq_max_len, 1])\n",
    "        x = self.masking(x)\n",
    "        x = self.lstm(x)\n",
    "        x = self.out(x)\n",
    "        if not is_training:\n",
    "            x = tf.nn.softmax(x)\n",
    "        return x"
   ]
  },
  {
   "cell_type": "code",
   "execution_count": 6,
   "metadata": {},
   "outputs": [],
   "source": [
    "lstm_net = LSTM()"
   ]
  },
  {
   "cell_type": "code",
   "execution_count": 7,
   "metadata": {},
   "outputs": [],
   "source": [
    "def cross_entropy_loss(x, y):\n",
    "    y = tf.cast(y, tf.int64)\n",
    "    loss = tf.nn.sparse_softmax_cross_entropy_with_logits(labels = y, logits = x)\n",
    "    return tf.reduce_mean(loss)\n",
    "\n",
    "def accuracy(y_pred, y_true):\n",
    "    correct_prediction = tf.equal(tf.argmax(y_pred, 1), tf.cast(y_true, tf.int64))\n",
    "    return tf.reduce_mean(tf.cast(correct_prediction, tf.float32), axis = -1)"
   ]
  },
  {
   "cell_type": "code",
   "execution_count": 8,
   "metadata": {},
   "outputs": [],
   "source": [
    "optimizer = tf.optimizers.Adam(learning_rate)"
   ]
  },
  {
   "cell_type": "code",
   "execution_count": 9,
   "metadata": {},
   "outputs": [],
   "source": [
    "def run_optimization(x, y):\n",
    "    with tf.GradientTape() as g:\n",
    "        pred = lstm_net(x, is_training = True)\n",
    "        loss = cross_entropy_loss(pred, y)\n",
    "        \n",
    "    trainable_variables = lstm_net.trainable_variables\n",
    "    gradients = g.gradient(loss, trainable_variables)\n",
    "    optimizer.apply_gradients(zip(gradients, trainable_variables))"
   ]
  },
  {
   "cell_type": "code",
   "execution_count": 10,
   "metadata": {},
   "outputs": [
    {
     "name": "stdout",
     "output_type": "stream",
     "text": [
      "Step: 1, Loss: 0.687976, Accuracy: 0.578125\n",
      "Step: 100, Loss: 0.623067, Accuracy: 0.687500\n",
      "Step: 200, Loss: 0.507279, Accuracy: 0.796875\n",
      "Step: 300, Loss: 0.513295, Accuracy: 0.765625\n",
      "Step: 400, Loss: 0.385737, Accuracy: 0.843750\n",
      "Step: 500, Loss: 0.389303, Accuracy: 0.843750\n",
      "Step: 600, Loss: 0.407296, Accuracy: 0.765625\n",
      "Step: 700, Loss: 0.300585, Accuracy: 0.921875\n",
      "Step: 800, Loss: 0.287422, Accuracy: 0.828125\n",
      "Step: 900, Loss: 0.246140, Accuracy: 0.906250\n",
      "Step: 1000, Loss: 0.119425, Accuracy: 0.937500\n",
      "Step: 1100, Loss: 0.225433, Accuracy: 0.890625\n",
      "Step: 1200, Loss: 0.168575, Accuracy: 0.906250\n",
      "Step: 1300, Loss: 0.210215, Accuracy: 0.921875\n",
      "Step: 1400, Loss: 0.081517, Accuracy: 0.968750\n",
      "Step: 1500, Loss: 0.118762, Accuracy: 0.968750\n",
      "Step: 1600, Loss: 0.071198, Accuracy: 0.984375\n",
      "Step: 1700, Loss: 0.093566, Accuracy: 0.968750\n",
      "Step: 1800, Loss: 0.068406, Accuracy: 0.984375\n",
      "Step: 1900, Loss: 0.079908, Accuracy: 1.000000\n",
      "Step: 2000, Loss: 0.073974, Accuracy: 1.000000\n"
     ]
    }
   ],
   "source": [
    "for step, (batch_x, batch_y) in enumerate(train_data.take(training_steps), 1):\n",
    "    run_optimization(batch_x, batch_y)\n",
    "    if step % display_step == 0 or step == 1:\n",
    "        pred = lstm_net(batch_x, is_training = True)\n",
    "        loss = cross_entropy_loss(pred, batch_y)\n",
    "        acc = accuracy(pred, batch_y)\n",
    "        print(\"Step: %i, Loss: %f, Accuracy: %f\" % (step, loss, acc))"
   ]
  },
  {
   "cell_type": "code",
   "execution_count": null,
   "metadata": {},
   "outputs": [],
   "source": []
  }
 ],
 "metadata": {
  "kernelspec": {
   "display_name": "Python 3",
   "language": "python",
   "name": "python3"
  },
  "language_info": {
   "codemirror_mode": {
    "name": "ipython",
    "version": 3
   },
   "file_extension": ".py",
   "mimetype": "text/x-python",
   "name": "python",
   "nbconvert_exporter": "python",
   "pygments_lexer": "ipython3",
   "version": "3.6.8"
  }
 },
 "nbformat": 4,
 "nbformat_minor": 4
}
