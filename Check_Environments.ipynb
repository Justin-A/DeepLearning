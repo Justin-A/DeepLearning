{
 "cells": [
  {
   "cell_type": "code",
   "execution_count": 1,
   "metadata": {},
   "outputs": [],
   "source": [
    "from importlib import import_module"
   ]
  },
  {
   "cell_type": "code",
   "execution_count": 2,
   "metadata": {},
   "outputs": [],
   "source": [
    "required_packages = [\n",
    "    (\"torch\", \"파이토치\"),\n",
    "    (\"torchvision\", \"토치비젼\"),\n",
    "    (\"torchtext\", \"토치텍스트\"),\n",
    "    (\"numpy\", \"넘파이\"),\n",
    "    (\"matplotlib\", \"맷플롯립\"),\n",
    "    (\"sklearn\", \"사이킷런\"),\n",
    "]\n",
    "\n",
    "installed_packages = []\n",
    "uninstalled_packages = []"
   ]
  },
  {
   "cell_type": "code",
   "execution_count": 3,
   "metadata": {},
   "outputs": [],
   "source": [
    "def run():\n",
    "    is_ready = True\n",
    "    for package_name, korean_name in required_packages:\n",
    "        printed_name = \"%s(%s)\" % (korean_name, package_name)\n",
    "        try:\n",
    "            imported_package = import_module(package_name)\n",
    "            installed_packages.append(\"%s 버젼%s\" % (printed_name, imported_package.__version__))\n",
    "        except:\n",
    "            is_ready = False\n",
    "            uninstalled_packages.append(printed_name)\n",
    "    \n",
    "    if is_ready:\n",
    "        print(\"Congratulation! Develop Environment setting is completed!\")\n",
    "        print(\"Information of installed library: \")\n",
    "        for pkg in installed_packages:\n",
    "            print(\" * \" + pkg)\n",
    "        \n",
    "    else:\n",
    "        print(\"There is not installed library\")\n",
    "        print(\"Information of installed library: \")\n",
    "        for pkg in installed_packages:\n",
    "            print(\" * \" + pkg)\n",
    "        print(\"Information of Uninstalled library: \")\n",
    "        for pkg in uninstalled_packages:\n",
    "            print(\" * \" + pkg)\n",
    "        return is_ready"
   ]
  },
  {
   "cell_type": "code",
   "execution_count": 4,
   "metadata": {},
   "outputs": [
    {
     "name": "stdout",
     "output_type": "stream",
     "text": [
      "Congratulation! Develop Environment setting is completed!\n",
      "Information of installed library: \n",
      " * 파이토치(torch) 버젼1.2.0+cu92\n",
      " * 토치비젼(torchvision) 버젼0.4.0+cu92\n",
      " * 토치텍스트(torchtext) 버젼0.4.0\n",
      " * 넘파이(numpy) 버젼1.16.5\n",
      " * 맷플롯립(matplotlib) 버젼3.1.1\n",
      " * 사이킷런(sklearn) 버젼0.21.3\n"
     ]
    }
   ],
   "source": [
    "if __name__ == \"__main__\":\n",
    "    run()"
   ]
  },
  {
   "cell_type": "code",
   "execution_count": null,
   "metadata": {},
   "outputs": [],
   "source": []
  }
 ],
 "metadata": {
  "kernelspec": {
   "display_name": "Python 3",
   "language": "python",
   "name": "python3"
  },
  "language_info": {
   "codemirror_mode": {
    "name": "ipython",
    "version": 3
   },
   "file_extension": ".py",
   "mimetype": "text/x-python",
   "name": "python",
   "nbconvert_exporter": "python",
   "pygments_lexer": "ipython3",
   "version": "3.6.8"
  }
 },
 "nbformat": 4,
 "nbformat_minor": 4
}
